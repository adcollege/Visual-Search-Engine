{
  "cells": [
    {
      "cell_type": "markdown",
      "source": [
        "# Downloading the data set by using kaggle"
      ],
      "metadata": {
        "id": "F8A8cuZeMmyF"
      }
    },
    {
      "cell_type": "markdown",
      "source": [
        "Data set contains the image of person contains their insta username as well as piture name   \n",
        "which is scrapted using the instagram private api and browser extensations  "
      ],
      "metadata": {
        "id": "XlgdWqY-M1Ap"
      }
    },
    {
      "cell_type": "code",
      "source": [
        "import kagglehub\n",
        "\n",
        "# Download latest version\n",
        "path = kagglehub.dataset_download(\"adcollege/face-data\")\n",
        "\n",
        "print(\"Path of dataset files:\", path)"
      ],
      "metadata": {
        "id": "qogKu_JZejhk"
      },
      "execution_count": null,
      "outputs": []
    },
    {
      "cell_type": "code",
      "source": [
        "import os\n",
        "\n",
        "dataset_path = \"/root/.cache/kagglehub/datasets/adcollege/face-data/versions/1\"\n",
        "print(os.listdir(dataset_path))  # List all files in the dataset folder\n"
      ],
      "metadata": {
        "id": "n9eTg3EyihhL"
      },
      "execution_count": null,
      "outputs": []
    },
    {
      "cell_type": "markdown",
      "source": [
        "# Dependencies to install\n"
      ],
      "metadata": {
        "id": "zg8R2FDUOYZx"
      }
    },
    {
      "cell_type": "code",
      "execution_count": null,
      "metadata": {
        "collapsed": true,
        "id": "kVe00QN3x89z"
      },
      "outputs": [],
      "source": [
        "# dependencies to install\n",
        "!pip install faiss-cpu\n",
        "!pip install facenet-pytorch\n",
        "!pip install gradio\n",
        "!pip install --upgrade Pillow torchvision\n"
      ]
    },
    {
      "cell_type": "markdown",
      "source": [
        "# Data filtering  \n",
        "# Seperate the picture with face or not having the face"
      ],
      "metadata": {
        "id": "9VOVZL8lPeNz"
      }
    },
    {
      "cell_type": "code",
      "execution_count": null,
      "metadata": {
        "id": "JxSL9o_u4_T5"
      },
      "outputs": [],
      "source": [
        "import os\n",
        "from facenet_pytorch import MTCNN\n",
        "from PIL import Image\n",
        "from IPython.display import display\n",
        "import shutil\n",
        "import zipfile\n",
        "\n",
        "# Initialize MTCNN for face detection\n",
        "mtcnn = MTCNN(keep_all=True)\n",
        "\n",
        "# Directory containing images\n",
        "image_dir = \"/content/extracted_files/downloaded_pics\"  # Replace with your directory\n",
        "\n",
        "# Create directories for face and no-face images\n",
        "face_dir = \"faces\"\n",
        "no_face_dir = \"no_faces\"\n",
        "os.makedirs(face_dir, exist_ok=True)\n",
        "os.makedirs(no_face_dir, exist_ok=True)\n",
        "\n",
        "for filename in os.listdir(image_dir):\n",
        "    if filename.lower().endswith(('.png', '.jpg', '.jpeg')):\n",
        "        img_path = os.path.join(image_dir, filename)\n",
        "        img = Image.open(img_path).convert('RGB')\n",
        "\n",
        "        # Detect faces in the image\n",
        "        boxes, _ = mtcnn.detect(img)\n",
        "\n",
        "        # Move image to appropriate folder\n",
        "        if boxes is not None:\n",
        "            shutil.copy(img_path, os.path.join(face_dir, filename))\n",
        "        else:\n",
        "            shutil.copy(img_path, os.path.join(no_face_dir, filename))\n",
        "\n",
        "# Zip the folders\n",
        "def zip_folder(folder_path, zip_filename):\n",
        "    with zipfile.ZipFile(zip_filename, 'w') as zipf:\n",
        "        for root, _, files in os.walk(folder_path):\n",
        "            for file in files:\n",
        "                zipf.write(os.path.join(root, file),\n",
        "                           os.path.relpath(os.path.join(root, file),\n",
        "                                           os.path.join(folder_path, '..')))\n",
        "\n",
        "zip_folder(face_dir, \"faces.zip\")\n",
        "zip_folder(no_face_dir, \"no_faces.zip\")\n",
        "\n",
        "print(\"Images processed and zipped successfully!\")"
      ]
    },
    {
      "cell_type": "markdown",
      "source": [
        "# Main program to search the similar face of image in dataset"
      ],
      "metadata": {
        "id": "cxlfflpPP8F_"
      }
    },
    {
      "cell_type": "code",
      "source": [
        "import os\n",
        "import torch\n",
        "import numpy as np\n",
        "import faiss\n",
        "from PIL import Image\n",
        "import gradio as gr\n",
        "from facenet_pytorch import MTCNN, InceptionResnetV1\n",
        "from tqdm import tqdm\n",
        "\n",
        "# Path of images\n",
        "IMAGE_FOLDER = \"/root/.cache/kagglehub/datasets/adcollege/face-data/versions/1/good_faces\"\n",
        "\n",
        "# Initialize models\n",
        "device = torch.device(\"cuda\" if torch.cuda.is_available() else \"cpu\")\n",
        "mtcnn = MTCNN(device=device)\n",
        "resnet = InceptionResnetV1(pretrained='vggface2', device=device).eval()\n",
        "\n",
        "# Load images\n",
        "def load_images_from_folder(folder):\n",
        "    images, image_paths = [], []\n",
        "    for filename in os.listdir(folder):\n",
        "        if filename.lower().endswith(('png', 'jpg', 'jpeg')):\n",
        "            img_path = os.path.join(folder, filename)\n",
        "            img = Image.open(img_path).convert(\"RGB\")\n",
        "            images.append(img)\n",
        "            image_paths.append(img_path)\n",
        "    return images, image_paths\n",
        "\n",
        "images, image_paths = load_images_from_folder(IMAGE_FOLDER)\n",
        "\n",
        "# Extract embeddings\n",
        "def extract_embeddings(images):\n",
        "    embeddings, valid_paths = [], []\n",
        "    for img, path in tqdm(zip(images, image_paths), total=len(images)):\n",
        "        face = mtcnn(img)\n",
        "        if face is not None:\n",
        "            face = face.unsqueeze(0).to(device)\n",
        "            emb = resnet(face).detach().cpu().numpy()\n",
        "            embeddings.append(emb)\n",
        "            valid_paths.append(path)\n",
        "    return np.vstack(embeddings), valid_paths\n",
        "\n",
        "embeddings, valid_paths = extract_embeddings(images)\n",
        "\n",
        "# Store embeddings in FAISS\n",
        "index = faiss.IndexFlatL2(512)\n",
        "index.add(embeddings.astype(np.float32))\n",
        "\n",
        "# Function to find similar images\n",
        "def find_similar(image):\n",
        "    img = Image.open(image).convert(\"RGB\")\n",
        "    face = mtcnn(img)\n",
        "    if face is None:\n",
        "        return \"No face detected!\", None, \"\", None, \"\", None, \"\", None, \"\", None, \"\"\n",
        "\n",
        "    face = face.unsqueeze(0).to(device)\n",
        "    emb = resnet(face).detach().cpu().numpy().astype(np.float32)\n",
        "    distances, indices = index.search(emb, 5)\n",
        "\n",
        "    similar_images_paths = [valid_paths[i] for i in indices[0]]\n",
        "    similar_images = [Image.open(img_path).convert(\"RGB\") for img_path in similar_images_paths]\n",
        "\n",
        "    scores = [round(1 / (1 + dist), 3) if dist != 0 else 1.0 for dist in distances[0]]  # Normalize similarity scores\n",
        "\n",
        "    instagram_links = [\n",
        "        f\"Match {i+1} - Score: {scores[i]}\\n[View Profile](https://www.instagram.com/{os.path.splitext(os.path.basename(path))[0]})\"\n",
        "        for i, path in enumerate(similar_images_paths)\n",
        "    ]\n",
        "\n",
        "    return (\n",
        "        similar_images[0], instagram_links[0],\n",
        "        similar_images[1], instagram_links[1],\n",
        "        similar_images[2], instagram_links[2],\n",
        "        similar_images[3], instagram_links[3],\n",
        "        similar_images[4], instagram_links[4]\n",
        "    )\n",
        "\n",
        "# Gradio UI\n",
        "iface = gr.Interface(\n",
        "    fn=find_similar,\n",
        "    inputs=gr.Image(type=\"filepath\"),\n",
        "    outputs=[\n",
        "        gr.Image(label=\"Match 1\"), gr.Markdown(label=\"Link 1\"),\n",
        "        gr.Image(label=\"Match 2\"), gr.Markdown(label=\"Link 2\"),\n",
        "        gr.Image(label=\"Match 3\"), gr.Markdown(label=\"Link 3\"),\n",
        "        gr.Image(label=\"Match 4\"), gr.Markdown(label=\"Link 4\"),\n",
        "        gr.Image(label=\"Match 5\"), gr.Markdown(label=\"Link 5\"),\n",
        "    ],\n",
        "    title=\"Face Similarity Search\",\n",
        "    description=\"Upload an image to find similar faces from the dataset. Click the links below the images to view the Instagram profiles. Matching scores are displayed next to the links.\"\n",
        ")\n",
        "\n",
        "iface.launch(share=True)\n"
      ],
      "metadata": {
        "id": "0-uAzuSrUCOR"
      },
      "execution_count": null,
      "outputs": []
    },
    {
      "cell_type": "markdown",
      "metadata": {
        "id": "fXJbWvFOxADV"
      },
      "source": [
        "# **Main program to search the similar face of image in dataset mantually by giving the pic path **"
      ]
    },
    {
      "cell_type": "code",
      "execution_count": null,
      "metadata": {
        "id": "gCnlYUc1wNka"
      },
      "outputs": [],
      "source": [
        "import os\n",
        "import torch\n",
        "import numpy as np\n",
        "import faiss\n",
        "from PIL import Image\n",
        "import matplotlib.pyplot as plt\n",
        "from facenet_pytorch import MTCNN, InceptionResnetV1\n",
        "from tqdm import tqdm\n",
        "\n",
        "\n",
        "#path of folder\n",
        "IMAGE_FOLDER =\"/content/images_dataset\"\n",
        "\n",
        "\n",
        "# Initialize models\n",
        "device = torch.device(\"cuda\" if torch.cuda.is_available() else \"cpu\")\n",
        "mtcnn = MTCNN(device=device)\n",
        "resnet = InceptionResnetV1(pretrained='vggface2', device=device).eval()\n",
        "\n",
        "\n",
        "# Loading the images\n",
        "def load_images_from_folder(folder):\n",
        "    images = []\n",
        "    image_paths = []\n",
        "    for filename in os.listdir(folder):\n",
        "        if filename.lower().endswith(('png', 'jpg', 'jpeg')):\n",
        "            img_path = os.path.join(folder, filename)\n",
        "            img = Image.open(img_path).convert(\"RGB\")\n",
        "            images.append(img)\n",
        "            image_paths.append(img_path)\n",
        "    return images, image_paths\n",
        "\n",
        "images, image_paths = load_images_from_folder(IMAGE_FOLDER)\n",
        "\n",
        "# Extract embeddings\n",
        "def extract_embeddings(images):\n",
        "    embeddings = []\n",
        "    valid_paths = []\n",
        "    for img, path in tqdm(zip(images, image_paths), total=len(images)):\n",
        "        face = mtcnn(img)\n",
        "        if face is not None:\n",
        "            face = face.unsqueeze(0).to(device)\n",
        "            emb = resnet(face).detach().cpu().numpy()\n",
        "            embeddings.append(emb)\n",
        "            valid_paths.append(path)\n",
        "    return np.vstack(embeddings), valid_paths\n",
        "\n",
        "embeddings, valid_paths = extract_embeddings(images)\n",
        "\n",
        "# Store embeddings in FAISS\n",
        "index = faiss.IndexFlatL2(512)\n",
        "index.add(embeddings.astype(np.float32))\n",
        "\n",
        "# Function to find and display similar images and converting them into RGB\n",
        "def find_similar(image_path, top_k=5):\n",
        "    img = Image.open(image_path).convert(\"RGB\")\n",
        "    face = mtcnn(img)\n",
        "    if face is None:\n",
        "        print(\"No face detected!\")\n",
        "        return\n",
        "    face = face.unsqueeze(0).to(device)\n",
        "    emb = resnet(face).detach().cpu().numpy().astype(np.float32)\n",
        "\n",
        "    distances, indices = index.search(emb, top_k)\n",
        "    similar_images = [valid_paths[i] for i in indices[0]]\n",
        "\n",
        "    # Display images\n",
        "    fig, axes = plt.subplots(1, top_k + 1, figsize=(150, 50))\n",
        "    axes[0].imshow(img)\n",
        "    axes[0].set_title(\"Query Image\")\n",
        "    axes[0].axis(\"off\")\n",
        "\n",
        "    for i, img_path in enumerate(similar_images):\n",
        "        sim_img = Image.open(img_path).convert(\"RGB\")\n",
        "        axes[i + 1].imshow(sim_img)\n",
        "        axes[i + 1].set_title(f\"Match {i+1}\")\n",
        "        axes[i + 1].axis(\"off\")\n",
        "\n",
        "    plt.show()\n",
        "\n",
        "# Entry query image path\n",
        "query_image = \"/content/471584015_947115076820441_3422149765727453140_n.jpg\"\n",
        "find_similar(query_image)\n"
      ]
    }
  ],
  "metadata": {
    "accelerator": "GPU",
    "colab": {
      "gpuType": "T4",
      "provenance": []
    },
    "kernelspec": {
      "display_name": "Python 3",
      "name": "python3"
    },
    "language_info": {
      "name": "python"
    }
  },
  "nbformat": 4,
  "nbformat_minor": 0
}